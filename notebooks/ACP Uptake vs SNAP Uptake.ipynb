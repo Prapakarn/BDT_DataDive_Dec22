{
 "cells": [
  {
   "cell_type": "markdown",
   "metadata": {},
   "source": [
    "### Research Question: What is the relationship between internet access benefit uptake and SNAP benefit uptake?"
   ]
  },
  {
   "cell_type": "markdown",
   "metadata": {},
   "source": [
    "Background from BDT: Lifeline is an older FCC program that helps make communications services more affordable for low-income consumers (source: https://www.fcc.gov/lifeline-consumers). There is a new FCC program called Affordable Connectivity Program (ACP) that helps ensure that households can afford the broadband they need for work, school, healthcare and more that replaced the Emergency Broadband Benefit (EBB) program. (source: https://www.fcc.gov/acp) Given ACP is newer and offers more benefits the priority is to look at ACP benefit enrollment versus SNAP benefit enrollment by geo (i.e. county). This will allow BDT to understand if there are specific regions where ACP enrollment is low relative to SNAP because being enrolled in SNAP is a qualifier for ACP. This comparison will need to use household data for SNAP because ACP is a household benefit.  "
   ]
  },
  {
   "cell_type": "markdown",
   "metadata": {},
   "source": [
    "Locations of Data: ACP data is available at https://www.usac.org/about/affordable-connectivity-program/acp-enrollment-and-claims-tracker/#enrollment-and-claims-by-zipcode-and-county for 2022 (and there is a data dictionary at https://www.usac.org/wp-content/uploads/about/documents/acp/Data-Dictionary.pdf). SNAP data is located at https://www.fns.usda.gov/pd/supplemental-nutrition-assistance-program-snap.  "
   ]
  },
  {
   "cell_type": "code",
   "execution_count": null,
   "metadata": {},
   "outputs": [],
   "source": []
  }
 ],
 "metadata": {
  "kernelspec": {
   "display_name": "Python 3",
   "language": "python",
   "name": "python3"
  },
  "language_info": {
   "codemirror_mode": {
    "name": "ipython",
    "version": 3
   },
   "file_extension": ".py",
   "mimetype": "text/x-python",
   "name": "python",
   "nbconvert_exporter": "python",
   "pygments_lexer": "ipython3",
   "version": "3.8.3"
  }
 },
 "nbformat": 4,
 "nbformat_minor": 4
}
